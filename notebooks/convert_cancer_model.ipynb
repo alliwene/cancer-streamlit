{
  "cells": [
    {
      "cell_type": "code",
      "execution_count": 2,
      "metadata": {
        "colab": {
          "base_uri": "https://localhost:8080/"
        },
        "id": "zomTIMNpPtS5",
        "outputId": "de3bc7e8-5569-4c4b-e6fe-364405ac715b"
      },
      "outputs": [
        {
          "name": "stdout",
          "output_type": "stream",
          "text": [
            "Mounted at /content/drive\n"
          ]
        }
      ],
      "source": [
        "# Mount Google Drive\n",
        "from google.colab import drive # import drive from google colab\n",
        "import os, random, sys \n",
        "ROOT = \"/content/drive\"     # default location for the drive\n",
        " \n",
        "drive.mount(ROOT, force_remount=True) "
      ]
    },
    {
      "cell_type": "code",
      "execution_count": 3,
      "metadata": {
        "colab": {
          "base_uri": "https://localhost:8080/"
        },
        "id": "6xbHEWEyQCTJ",
        "outputId": "c77d2394-41c6-43a8-bef5-ad952607e87f"
      },
      "outputs": [
        {
          "name": "stdout",
          "output_type": "stream",
          "text": [
            "bi_lstm.h5\t cnn_best.h5   hybrid.tflite\n",
            "cancer-class.py  cnn_model.h5  test_imgs\n"
          ]
        }
      ],
      "source": [
        "# set file path\n",
        "path = \"/content/drive/My Drive/cancer_class\"\n",
        "os.chdir(path)\n",
        "!ls"
      ]
    },
    {
      "cell_type": "markdown",
      "metadata": {
        "id": "masiWeb__kJ3"
      },
      "source": [
        "### Download model from Kaggle kernel "
      ]
    },
    {
      "cell_type": "code",
      "execution_count": null,
      "metadata": {
        "colab": {
          "base_uri": "https://localhost:8080/"
        },
        "id": "x835JyYpS-1a",
        "outputId": "8ced1339-0912-4fcb-88a6-531ad36aefa2"
      },
      "outputs": [
        {
          "name": "stdout",
          "output_type": "stream",
          "text": [
            "--2021-07-06 00:51:07--  https://kkb-production.jupyter-proxy.kaggle.net/k/67550201/eyJhbGciOiJkaXIiLCJlbmMiOiJBMTI4Q0JDLUhTMjU2IiwidHlwIjoiSldUIn0..zgOsKN-9o2m09yMrgH278A.JqKx2oiB2J0GBC4GfVnYxTSmUdZCDCUqNvdI9HhOXT-qJ_Pakb4QwgbM1KVikSnk2upsjcy4774M1KWH4XQjUBWLJTEWQn139XMn7iFfoFjMKLCgVTMnF42AUJPKenw3f936q2EzVNSzv9lIDXnXUzlgIwl8bgf1OxpCI3VNt8PE5PLdR2v1yjywinsAzwZhYjpFTDkuX49hA5Q-u4Skkw.yLuxmoAndXOUxB7jKMtjCA/proxy/files/models/bi_lstm.h5\n",
            "Resolving kkb-production.jupyter-proxy.kaggle.net (kkb-production.jupyter-proxy.kaggle.net)... 35.244.180.134\n",
            "Connecting to kkb-production.jupyter-proxy.kaggle.net (kkb-production.jupyter-proxy.kaggle.net)|35.244.180.134|:443... connected.\n",
            "HTTP request sent, awaiting response... 200 OK\n",
            "Length: 505462240 (482M) [application/octet-stream]\n",
            "Saving to: ‘bi_lstm.h5’\n",
            "\n",
            "bi_lstm.h5          100%[===================>] 482.05M  28.9MB/s    in 17s     \n",
            "\n",
            "2021-07-06 00:51:25 (27.9 MB/s) - ‘bi_lstm.h5’ saved [505462240/505462240]\n",
            "\n"
          ]
        }
      ],
      "source": [
        "!wget https://kkb-production.jupyter-proxy.kaggle.net/k/67550201/eyJhbGciOiJkaXIiLCJlbmMiOiJBMTI4Q0JDLUhTMjU2IiwidHlwIjoiSldUIn0..zgOsKN-9o2m09yMrgH278A.JqKx2oiB2J0GBC4GfVnYxTSmUdZCDCUqNvdI9HhOXT-qJ_Pakb4QwgbM1KVikSnk2upsjcy4774M1KWH4XQjUBWLJTEWQn139XMn7iFfoFjMKLCgVTMnF42AUJPKenw3f936q2EzVNSzv9lIDXnXUzlgIwl8bgf1OxpCI3VNt8PE5PLdR2v1yjywinsAzwZhYjpFTDkuX49hA5Q-u4Skkw.yLuxmoAndXOUxB7jKMtjCA/proxy/files/models/bi_lstm.h5"
      ]
    },
    {
      "cell_type": "markdown",
      "metadata": {
        "id": "t2uXzFiR_sX8"
      },
      "source": [
        "### Import libraries"
      ]
    },
    {
      "cell_type": "code",
      "execution_count": 6,
      "metadata": {
        "colab": {
          "base_uri": "https://localhost:8080/"
        },
        "id": "DqVVyOPFlojs",
        "outputId": "a1687b4d-c5b5-49f0-d127-fa2e8095f1ad"
      },
      "outputs": [
        {
          "name": "stdout",
          "output_type": "stream",
          "text": [
            "\u001b[?25l\r\u001b[K     |██████▌                         | 10kB 27.2MB/s eta 0:00:01\r\u001b[K     |█████████████                   | 20kB 30.2MB/s eta 0:00:01\r\u001b[K     |███████████████████▍            | 30kB 33.7MB/s eta 0:00:01\r\u001b[K     |█████████████████████████▉      | 40kB 36.8MB/s eta 0:00:01\r\u001b[K     |████████████████████████████████| 51kB 8.0MB/s \n",
            "\u001b[?25h"
          ]
        }
      ],
      "source": [
        "!pip install -q efficientnet"
      ]
    },
    {
      "cell_type": "code",
      "execution_count": 3,
      "metadata": {
        "colab": {
          "base_uri": "https://localhost:8080/"
        },
        "id": "bHWCZBV65eHX",
        "outputId": "a3b2b562-4e64-4ca4-98e7-82328bac904a"
      },
      "outputs": [
        {
          "name": "stderr",
          "output_type": "stream",
          "text": [
            "2021-07-10 21:49:06.424895: I tensorflow/stream_executor/platform/default/dso_loader.cc:53] Successfully opened dynamic library libcudart.so.11.0\n"
          ]
        }
      ],
      "source": [
        "import tensorflow as tf\n",
        "from tensorflow.keras.layers import ( Dense, Flatten, Dropout, LSTM, \n",
        "                                     Bidirectional, Lambda, Reshape,\n",
        "                                    GlobalAveragePooling2D ) \n",
        "from tensorflow.keras.models import Model,Sequential,load_model\n",
        "from tensorflow.keras import optimizers, preprocessing\n",
        "# import efficientnet.tfkeras as efn\n",
        "from PIL import Image\n",
        "import matplotlib.pyplot as plt\n",
        "import numpy as np"
      ]
    },
    {
      "cell_type": "code",
      "execution_count": 15,
      "metadata": {
        "colab": {
          "base_uri": "https://localhost:8080/"
        },
        "id": "K-qCGsK3wemg",
        "outputId": "c9f718f0-e401-4ff9-95e1-668a914af5bd"
      },
      "outputs": [
        {
          "name": "stdout",
          "output_type": "stream",
          "text": [
            "2.5.0\n"
          ]
        }
      ],
      "source": [
        "print(tf.__version__)"
      ]
    },
    {
      "cell_type": "markdown",
      "metadata": {
        "id": "6Jv12fc0U1H3"
      },
      "source": [
        "### Load Keras Model and Convert to TFLite"
      ]
    },
    {
      "cell_type": "code",
      "execution_count": 8,
      "metadata": {
        "id": "3e_m2DNIsbOq"
      },
      "outputs": [],
      "source": [
        "model = load_model('bi_lstm.h5') "
      ]
    },
    {
      "cell_type": "code",
      "execution_count": 12,
      "metadata": {
        "colab": {
          "base_uri": "https://localhost:8080/"
        },
        "id": "ognJ96OCD5Md",
        "outputId": "5959806f-5f29-4f4a-c560-2b14dda5d410"
      },
      "outputs": [
        {
          "name": "stderr",
          "output_type": "stream",
          "text": [
            "WARNING:absl:Function `_wrapped_model` contains input name(s) efficientnet-b6_input with unsupported characters which will be renamed to efficientnet_b6_input in the SavedModel.\n",
            "WARNING:absl:Found untraced functions such as lstm_cell_1_layer_call_fn, lstm_cell_1_layer_call_and_return_conditional_losses, lstm_cell_2_layer_call_fn, lstm_cell_2_layer_call_and_return_conditional_losses, lstm_cell_4_layer_call_fn while saving (showing 5 of 20). These functions will not be directly callable after loading.\n",
            "/usr/local/lib/python3.7/dist-packages/tensorflow/python/keras/utils/generic_utils.py:497: CustomMaskWarning: Custom mask layers require a config and must override get_config. When loading, the custom mask layer must be passed to the custom_objects argument.\n",
            "  category=CustomMaskWarning)\n"
          ]
        },
        {
          "name": "stdout",
          "output_type": "stream",
          "text": [
            "INFO:tensorflow:Assets written to: /tmp/tmpudwgbd63/assets\n"
          ]
        },
        {
          "name": "stderr",
          "output_type": "stream",
          "text": [
            "INFO:tensorflow:Assets written to: /tmp/tmpudwgbd63/assets\n"
          ]
        }
      ],
      "source": [
        "# Convert the model.\n",
        "converter = tf.lite.TFLiteConverter.from_keras_model(model)\n",
        "tflite_model = converter.convert()\n",
        "\n",
        "# Save the model.\n",
        "with open('hybrid.tflite', 'wb') as f:\n",
        "  f.write(tflite_model)"
      ]
    },
    {
      "cell_type": "markdown",
      "metadata": {
        "id": "39iCoPNvlTMZ"
      },
      "source": [
        "### Model Inference"
      ]
    },
    {
      "cell_type": "code",
      "execution_count": 4,
      "metadata": {
        "colab": {
          "base_uri": "https://localhost:8080/"
        },
        "id": "I5JHsXrAFBpN",
        "outputId": "22c9bdb2-6262-4ea3-ccb8-45f99cf1824e"
      },
      "outputs": [
        {
          "name": "stdout",
          "output_type": "stream",
          "text": [
            "Prediction: Malignant \n"
          ]
        }
      ],
      "source": [
        "labels_dict = {0: 'Benign', 1: 'Malignant'}\n",
        "# load and resize image\n",
        "img = Image.open('/content/1035px-Melanoma.jpg')\n",
        "test_image = img.resize((512,512))\n",
        "test_image = preprocessing.image.img_to_array(test_image)\n",
        "test_image = test_image / 255.0\n",
        "test_image = np.expand_dims(test_image, axis=0)\n",
        "\n",
        "# Load the TFLite model and allocate tensors.\n",
        "interpreter = tf.lite.Interpreter(model_path=\"hybrid.tflite\")\n",
        "interpreter.allocate_tensors()\n",
        "\n",
        "# Get input and output tensors.\n",
        "input_details = interpreter.get_input_details()\n",
        "output_details = interpreter.get_output_details()\n",
        "\n",
        "# Test the model on image\n",
        "interpreter.set_tensor(input_details[0]['index'], test_image)\n",
        "interpreter.invoke()\n",
        "pred = interpreter.get_tensor(output_details[0]['index'])\n",
        "pred_class = (pred > 0.5).astype(\"int32\")\n",
        "cancer_class = labels_dict[pred_class.item()]\n",
        "result = f\"Prediction: {cancer_class} \"\n",
        "print(result)"
      ]
    }
  ],
  "metadata": {
    "accelerator": "GPU",
    "colab": {
      "collapsed_sections": [
        "masiWeb__kJ3"
      ],
      "include_colab_link": true,
      "name": "convert_cancer_model.ipynb",
      "provenance": []
    },
    "kernelspec": {
      "display_name": "Python 3",
      "name": "python3"
    },
    "language_info": {
      "name": "python"
    }
  },
  "nbformat": 4,
  "nbformat_minor": 0
}
